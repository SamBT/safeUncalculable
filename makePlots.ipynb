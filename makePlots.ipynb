{
 "cells": [
  {
   "cell_type": "code",
   "execution_count": 1,
   "id": "9bf6a85c-03f8-4380-a2f1-63a15b3b94d0",
   "metadata": {},
   "outputs": [
    {
     "name": "stderr",
     "output_type": "stream",
     "text": [
      "2023-07-10 18:01:55.417487: I tensorflow/core/platform/cpu_feature_guard.cc:193] This TensorFlow binary is optimized with oneAPI Deep Neural Network Library (oneDNN) to use the following CPU instructions in performance-critical operations:  SSE4.1 SSE4.2 AVX AVX2 FMA\n",
      "To enable them in other operations, rebuild TensorFlow with the appropriate compiler flags.\n"
     ]
    }
   ],
   "source": [
    "%load_ext autoreload\n",
    "%autoreload 2\n",
    "\n",
    "from nnTrain import train_efn, train_pfn, arch_scan, get_data, get_vars, get_constit_vars\n",
    "import matplotlib.pyplot as plt\n",
    "import numpy as np\n",
    "from multiprocessing import Process\n",
    "from tensorflow import keras\n",
    "from keras.optimizers import Adam\n",
    "from tensorflow import keras\n",
    "from keras import backend as K\n",
    "from energyflow.utils import data_split, to_categorical\n",
    "from sklearn.model_selection import train_test_split\n",
    "import gc\n",
    "from tensorflow.keras.losses import BinaryCrossentropy\n",
    "from sklearn.metrics import roc_auc_score, roc_curve\n",
    "import os\n",
    "import glob\n",
    "from tqdm.notebook import tqdm\n",
    "\n",
    "# define rng seeds for train/test/val split for replicable results\n",
    "rng1 = 45446\n",
    "rng2 = 25135\n",
    "rng3 = 34530\n",
    "rng4 = 20461"
   ]
  },
  {
   "cell_type": "markdown",
   "id": "e69c3835-2686-4687-87fe-890b22740fc9",
   "metadata": {
    "jp-MarkdownHeadingCollapsed": true,
    "tags": []
   },
   "source": [
    "# Quark jets, R = 0.8"
   ]
  },
  {
   "cell_type": "code",
   "execution_count": 2,
   "id": "efdb38c5-aaec-43d4-8f6b-432c1d492000",
   "metadata": {},
   "outputs": [],
   "source": [
    "vars = ['E','eta','phi']\n",
    "\n",
    "hdata = get_constit_vars('q',vars,hlevel=True,efrac=False)[:100000]\n",
    "htrain, htest = train_test_split(hdata,train_size=0.5,random_state=rng1)\n",
    "htest, hval = train_test_split(htest,train_size=0.5,random_state=rng2)\n",
    "\n",
    "pdata = get_constit_vars('q',vars,hlevel=False,efrac=False)[:100000]\n",
    "ptrain, ptest = train_test_split(pdata,train_size=0.5,random_state=rng3)\n",
    "ptest, pval = train_test_split(ptest,train_size=0.5,random_state=rng4)\n",
    "\n",
    "del hdata, pdata, htrain, hval, ptrain, pval\n",
    "\n",
    "test = np.concatenate((htest,ptest),axis=0)\n",
    "test_labels = np.concatenate((np.ones((htest.shape[0],1)),np.zeros((ptest.shape[0],1))),axis=0)\n",
    "perm = np.random.permutation(test.shape[0])\n",
    "test = test[perm]\n",
    "test_labels = test_labels[perm]\n",
    "\n",
    "del perm"
   ]
  },
  {
   "cell_type": "code",
   "execution_count": 21,
   "id": "3457b943-ce71-4d25-b1e8-afa0496e7f6d",
   "metadata": {
    "collapsed": true,
    "jupyter": {
     "outputs_hidden": true
    },
    "tags": []
   },
   "outputs": [
    {
     "name": "stdout",
     "output_type": "stream",
     "text": [
      "50/50 [==============================] - 0s 9ms/step\n",
      "50/50 [==============================] - 1s 9ms/step\n",
      "50/50 [==============================] - 1s 9ms/step\n",
      "50/50 [==============================] - 1s 9ms/step\n",
      "50/50 [==============================] - 0s 9ms/step\n",
      "50/50 [==============================] - 0s 9ms/step\n",
      "50/50 [==============================] - 1s 9ms/step\n",
      "50/50 [==============================] - 1s 9ms/step\n",
      "50/50 [==============================] - 1s 9ms/step\n",
      "50/50 [==============================] - 1s 9ms/step\n",
      "50/50 [==============================] - 1s 9ms/step\n",
      "50/50 [==============================] - 1s 9ms/step\n",
      "50/50 [==============================] - 1s 9ms/step\n",
      "50/50 [==============================] - 0s 8ms/step\n",
      "50/50 [==============================] - 1s 9ms/step\n",
      "50/50 [==============================] - 0s 8ms/step\n",
      "50/50 [==============================] - 1s 9ms/step\n",
      "50/50 [==============================] - 0s 9ms/step\n",
      "50/50 [==============================] - 0s 9ms/step\n",
      "50/50 [==============================] - 1s 10ms/step\n"
     ]
    }
   ],
   "source": [
    "# Evaluate mean/std of AUCs for spectral and non-spectral EFNs\n",
    "efns = glob.glob(\"keras_models/qjet_EFN_zpT_iter*.keras\")\n",
    "spectral_efns = glob.glob(\"keras_models/qjet_spectralEFN_zpT_iter*.keras\")\n",
    "\n",
    "efn_aucs = []\n",
    "for efname in efns:\n",
    "    efn = keras.models.load_model(efname)\n",
    "    preds = efn.predict([test[:,:,0],test[:,:,1:]],batch_size=1000)\n",
    "    auc = roc_auc_score(test_labels, preds)\n",
    "    efn_aucs.append(auc)\n",
    "    del efn\n",
    "    del preds\n",
    "    gc.collect()\n",
    "\n",
    "spectral_efn_aucs = []\n",
    "for efname in spectral_efns:\n",
    "    efn = keras.models.load_model(efname)\n",
    "    preds = efn.predict([test[:,:,0],test[:,:,1:]],batch_size=1000)\n",
    "    auc = roc_auc_score(test_labels, preds)\n",
    "    spectral_efn_aucs.append(auc)\n",
    "    del efn\n",
    "    del preds\n",
    "    gc.collect()\n",
    "\n",
    "spectral_efn_aucs = [a if a>=0.5 else 1-a for a in spectral_efn_aucs]"
   ]
  },
  {
   "cell_type": "code",
   "execution_count": 23,
   "id": "c6ee9f52-6b9b-4af8-810d-3465c6d385ae",
   "metadata": {},
   "outputs": [
    {
     "name": "stdout",
     "output_type": "stream",
     "text": [
      "EFN : AUC = 0.9631 +/- 0.0066\n",
      "Spectral EFN : AUC = 0.5225 +/- 0.0160\n"
     ]
    }
   ],
   "source": [
    "print(f\"EFN : AUC = {np.mean(efn_aucs):.4f} +/- {np.std(efn_aucs):.4f}\")\n",
    "print(f\"Spectral EFN : AUC = {np.mean(spectral_efn_aucs):.4f} +/- {np.std(spectral_efn_aucs):.4f}\")"
   ]
  },
  {
   "cell_type": "code",
   "execution_count": 16,
   "id": "a916853d-5f04-4a96-8fef-a09e361a20c1",
   "metadata": {
    "tags": []
   },
   "outputs": [
    {
     "data": {
      "application/vnd.jupyter.widget-view+json": {
       "model_id": "9118544c6e904d4a8c10bfd4131b2e9f",
       "version_major": 2,
       "version_minor": 0
      },
      "text/plain": [
       "0it [00:00, ?it/s]"
      ]
     },
     "metadata": {},
     "output_type": "display_data"
    }
   ],
   "source": [
    "from energyflow.emd import emd_wasserstein, emds_wasserstein\n",
    "htest_trim = [h[h[:,0]>0] for h in htest]\n",
    "ptest_trim = [p[p[:,0]>0] for p in ptest]\n",
    "\n",
    "emds = []\n",
    "for h,p in tqdm(zip(htest_trim,ptest_trim)):\n",
    "    emds.append(emd_wasserstein(h,p,R=0.8,norm=False))\n",
    "    \n",
    "#spectral_efns = glob.glob(\"keras_models/qjet_spectralEFN_zpT_iter*.keras\")\n",
    "#delta_efns = []\n",
    "#for efname in spectral_efns:\n",
    "#    efn = keras.models.load_model(efname)\n",
    "#    h_preds = efn.predict([htest[:,:,0],htest[:,:,1:]],batch_size=1000)\n",
    "#    p_preds = efn.predict([ptest[:,:,0],ptest[:,:,1:]],batch_size=1000)\n",
    "#    delta_efns.append((h_preds-p_preds))\n",
    "#    del efn\n",
    "#    del h_preds, p_preds\n",
    "#    gc.collect()\n",
    "#delta_efns = np.mean(np.concatenate(delta_efns,axis=1),axis=1)\n",
    "z_h = htest[:,:,0]\n",
    "theta_h = np.linalg.norm(htest[:,:,1:],axis=-1)\n",
    "angularity_h = np.sum(theta_h*z_h,axis=1)\n",
    "\n",
    "z_p = ptest[:,:,0]\n",
    "theta_p = np.linalg.norm(ptest[:,:,1:],axis=-1)\n",
    "angularity_p = np.sum(theta_p*z_p,axis=1)"
   ]
  },
  {
   "cell_type": "code",
   "execution_count": 32,
   "id": "330baa0b-88bd-4dd9-9c65-be09e66cda50",
   "metadata": {},
   "outputs": [
    {
     "data": {
      "text/plain": [
       "[<matplotlib.lines.Line2D at 0x7f30926925b0>]"
      ]
     },
     "execution_count": 32,
     "metadata": {},
     "output_type": "execute_result"
    },
    {
     "data": {
      "image/png": "[encoded data removed]",
      "text/plain": [
       "<Figure size 600x600 with 2 Axes>"
      ]
     },
     "metadata": {},
     "output_type": "display_data"
    }
   ],
   "source": [
    "plt.figure(figsize=(6,6))\n",
    "x = np.linspace(0,200,40)\n",
    "from matplotlib.colors import LogNorm\n",
    "h2 = plt.hist2d(emds,np.abs(angularity_h-angularity_p),bins=(x,x),norm=LogNorm(),density=True,cmap='binary')\n",
    "plt.colorbar()\n",
    "plt.plot(x,x,linestyle='--',color='red',linewidth=2)"
   ]
  },
  {
   "cell_type": "markdown",
   "id": "33e8f895-2fd5-4702-97f7-613520b38508",
   "metadata": {
    "tags": []
   },
   "source": [
    "# Gluon jets, R = 0.8"
   ]
  },
  {
   "cell_type": "code",
   "execution_count": 2,
   "id": "a0ee74c3-572c-432a-a772-dfa8e282d223",
   "metadata": {},
   "outputs": [],
   "source": [
    "vars = ['z','eta','phi']\n",
    "\n",
    "hdata = get_constit_vars('g',vars,hlevel=True,efrac=False)[:100000]\n",
    "htrain, htest = train_test_split(hdata,train_size=0.5,random_state=rng1)\n",
    "htest, hval = train_test_split(htest,train_size=0.5,random_state=rng2)\n",
    "\n",
    "pdata = get_constit_vars('g',vars,hlevel=False,efrac=False)[:100000]\n",
    "ptrain, ptest = train_test_split(pdata,train_size=0.5,random_state=rng3)\n",
    "ptest, pval = train_test_split(ptest,train_size=0.5,random_state=rng4)\n",
    "\n",
    "del hdata, pdata, htrain, hval, ptrain, pval\n",
    "\n",
    "test = np.concatenate((htest,ptest),axis=0)\n",
    "test_labels = np.concatenate((np.ones((htest.shape[0],1)),np.zeros((ptest.shape[0],1))),axis=0)\n",
    "perm = np.random.permutation(test.shape[0])\n",
    "test = test[perm]\n",
    "test_labels = test_labels[perm]\n",
    "\n",
    "del perm"
   ]
  },
  {
   "cell_type": "code",
   "execution_count": 3,
   "id": "c090026d-f17b-47bb-9606-5506e98f8f6f",
   "metadata": {
    "collapsed": true,
    "jupyter": {
     "outputs_hidden": true
    },
    "tags": []
   },
   "outputs": [
    {
     "name": "stderr",
     "output_type": "stream",
     "text": [
      "2023-07-10 18:02:28.920899: I tensorflow/stream_executor/cuda/cuda_gpu_executor.cc:980] successful NUMA node read from SysFS had negative value (-1), but there must be at least one NUMA node, so returning NUMA node zero\n",
      "2023-07-10 18:02:29.591819: I tensorflow/stream_executor/cuda/cuda_gpu_executor.cc:980] successful NUMA node read from SysFS had negative value (-1), but there must be at least one NUMA node, so returning NUMA node zero\n",
      "2023-07-10 18:02:29.592196: I tensorflow/stream_executor/cuda/cuda_gpu_executor.cc:980] successful NUMA node read from SysFS had negative value (-1), but there must be at least one NUMA node, so returning NUMA node zero\n",
      "2023-07-10 18:02:29.685299: I tensorflow/core/platform/cpu_feature_guard.cc:193] This TensorFlow binary is optimized with oneAPI Deep Neural Network Library (oneDNN) to use the following CPU instructions in performance-critical operations:  SSE4.1 SSE4.2 AVX AVX2 FMA\n",
      "To enable them in other operations, rebuild TensorFlow with the appropriate compiler flags.\n",
      "2023-07-10 18:02:29.693341: I tensorflow/stream_executor/cuda/cuda_gpu_executor.cc:980] successful NUMA node read from SysFS had negative value (-1), but there must be at least one NUMA node, so returning NUMA node zero\n",
      "2023-07-10 18:02:29.693677: I tensorflow/stream_executor/cuda/cuda_gpu_executor.cc:980] successful NUMA node read from SysFS had negative value (-1), but there must be at least one NUMA node, so returning NUMA node zero\n",
      "2023-07-10 18:02:29.693929: I tensorflow/stream_executor/cuda/cuda_gpu_executor.cc:980] successful NUMA node read from SysFS had negative value (-1), but there must be at least one NUMA node, so returning NUMA node zero\n",
      "2023-07-10 18:02:31.274832: I tensorflow/stream_executor/cuda/cuda_gpu_executor.cc:980] successful NUMA node read from SysFS had negative value (-1), but there must be at least one NUMA node, so returning NUMA node zero\n",
      "2023-07-10 18:02:31.275196: I tensorflow/stream_executor/cuda/cuda_gpu_executor.cc:980] successful NUMA node read from SysFS had negative value (-1), but there must be at least one NUMA node, so returning NUMA node zero\n",
      "2023-07-10 18:02:31.275474: I tensorflow/stream_executor/cuda/cuda_gpu_executor.cc:980] successful NUMA node read from SysFS had negative value (-1), but there must be at least one NUMA node, so returning NUMA node zero\n",
      "2023-07-10 18:02:31.275728: I tensorflow/core/common_runtime/gpu/gpu_device.cc:1616] Created device /job:localhost/replica:0/task:0/device:GPU:0 with 7927 MB memory:  -> device: 0, name: NVIDIA A100 80GB PCIe MIG 1g.10gb, pci bus id: 0000:07:00.0, compute capability: 8.0\n"
     ]
    },
    {
     "name": "stdout",
     "output_type": "stream",
     "text": [
      "1/5 [=====>........................] - ETA: 7s"
     ]
    },
    {
     "name": "stderr",
     "output_type": "stream",
     "text": [
      "2023-07-10 18:02:33.880741: I tensorflow/stream_executor/cuda/cuda_blas.cc:1614] TensorFloat-32 will be used for the matrix multiplication. This will only be logged once.\n"
     ]
    },
    {
     "name": "stdout",
     "output_type": "stream",
     "text": [
      "5/5 [==============================] - 2s 59ms/step\n",
      "3/3 [==============================] - 0s 76ms/step\n",
      "3/3 [==============================] - 0s 76ms/step\n",
      "5/5 [==============================] - 0s 78ms/step\n",
      "3/3 [==============================] - 0s 76ms/step\n",
      "3/3 [==============================] - 0s 75ms/step\n",
      "5/5 [==============================] - 0s 77ms/step\n",
      "3/3 [==============================] - 0s 76ms/step\n",
      "3/3 [==============================] - 0s 75ms/step\n",
      "5/5 [==============================] - 0s 77ms/step\n",
      "3/3 [==============================] - 0s 77ms/step\n",
      "3/3 [==============================] - 0s 75ms/step\n",
      "5/5 [==============================] - 0s 77ms/step\n",
      "3/3 [==============================] - 0s 77ms/step\n",
      "3/3 [==============================] - 0s 75ms/step\n",
      "5/5 [==============================] - 0s 77ms/step\n",
      "3/3 [==============================] - 0s 76ms/step\n",
      "3/3 [==============================] - 0s 75ms/step\n",
      "5/5 [==============================] - 0s 78ms/step\n",
      "3/3 [==============================] - 0s 77ms/step\n",
      "3/3 [==============================] - 0s 77ms/step\n",
      "5/5 [==============================] - 0s 77ms/step\n",
      "3/3 [==============================] - 0s 77ms/step\n",
      "3/3 [==============================] - 0s 76ms/step\n",
      "5/5 [==============================] - 0s 77ms/step\n",
      "3/3 [==============================] - 0s 77ms/step\n",
      "3/3 [==============================] - 0s 76ms/step\n",
      "5/5 [==============================] - 0s 78ms/step\n",
      "3/3 [==============================] - 0s 75ms/step\n",
      "3/3 [==============================] - 0s 77ms/step\n",
      "5/5 [==============================] - 0s 77ms/step\n",
      "3/3 [==============================] - 0s 77ms/step\n",
      "3/3 [==============================] - 0s 77ms/step\n",
      "5/5 [==============================] - 0s 77ms/step\n",
      "3/3 [==============================] - 0s 75ms/step\n",
      "3/3 [==============================] - 0s 78ms/step\n",
      "5/5 [==============================] - 0s 77ms/step\n",
      "3/3 [==============================] - 0s 75ms/step\n",
      "3/3 [==============================] - 0s 76ms/step\n",
      "5/5 [==============================] - 0s 76ms/step\n",
      "3/3 [==============================] - 0s 76ms/step\n",
      "3/3 [==============================] - 0s 76ms/step\n",
      "5/5 [==============================] - 0s 77ms/step\n",
      "3/3 [==============================] - 0s 75ms/step\n",
      "3/3 [==============================] - 0s 77ms/step\n",
      "5/5 [==============================] - 0s 78ms/step\n",
      "3/3 [==============================] - 0s 76ms/step\n",
      "3/3 [==============================] - 0s 76ms/step\n",
      "5/5 [==============================] - 0s 78ms/step\n",
      "3/3 [==============================] - 0s 77ms/step\n",
      "3/3 [==============================] - 0s 77ms/step\n",
      "5/5 [==============================] - 0s 77ms/step\n",
      "3/3 [==============================] - 0s 77ms/step\n",
      "3/3 [==============================] - 0s 77ms/step\n",
      "5/5 [==============================] - 0s 77ms/step\n",
      "3/3 [==============================] - 0s 76ms/step\n",
      "3/3 [==============================] - 0s 76ms/step\n",
      "5/5 [==============================] - 0s 76ms/step\n",
      "3/3 [==============================] - 0s 76ms/step\n",
      "3/3 [==============================] - 0s 74ms/step\n"
     ]
    }
   ],
   "source": [
    "# Evaluate mean/std of AUCs for spectral and non-spectral EFNs\n",
    "efns = glob.glob(\"keras_models/gjet_EFN_zpT_iter*.keras\")\n",
    "spectral_efns = glob.glob(\"keras_models/gjet_spectralEFN_zpT_iter*.keras\")\n",
    "\n",
    "efn_aucs = []\n",
    "htest_efn_scores = []\n",
    "ptest_efn_scores = []\n",
    "for efname in efns:\n",
    "    efn = keras.models.load_model(efname)\n",
    "    preds = efn.predict([test[:,:,0],test[:,:,1:]],batch_size=10000)\n",
    "    htest_efn_scores.append(efn.predict([htest[:,:,0],htest[:,:,1:]],batch_size=10000))\n",
    "    ptest_efn_scores.append(efn.predict([ptest[:,:,0],ptest[:,:,1:]],batch_size=10000))\n",
    "    auc = roc_auc_score(test_labels, preds)\n",
    "    efn_aucs.append(auc)\n",
    "    del efn\n",
    "    del preds\n",
    "    gc.collect()\n",
    "\n",
    "sigmoid = keras.activations.sigmoid\n",
    "spectral_efn_aucs = []\n",
    "htest_spectral_efn_scores = []\n",
    "ptest_spectral_efn_scores = []\n",
    "for efname in spectral_efns:\n",
    "    efn = keras.models.load_model(efname)\n",
    "    preds = sigmoid(efn.predict([test[:,:,0],test[:,:,1:]],batch_size=10000))\n",
    "    htest_spectral_efn_scores.append(efn.predict([htest[:,:,0],htest[:,:,1:]],batch_size=10000))\n",
    "    ptest_spectral_efn_scores.append(efn.predict([ptest[:,:,0],ptest[:,:,1:]],batch_size=10000))\n",
    "    auc = roc_auc_score(test_labels, preds)\n",
    "    spectral_efn_aucs.append(auc)\n",
    "    del efn\n",
    "    del preds\n",
    "    gc.collect()\n",
    "\n",
    "spectral_efn_aucs = [a if a>=0.5 else 1-a for a in spectral_efn_aucs]"
   ]
  },
  {
   "cell_type": "code",
   "execution_count": 4,
   "id": "f4f77b5a-6c08-41c5-92a7-ca99590ceb77",
   "metadata": {},
   "outputs": [
    {
     "name": "stdout",
     "output_type": "stream",
     "text": [
      "EFN : AUC = 0.9604 +/- 0.0096\n",
      "Spectral EFN : AUC = 0.5183 +/- 0.0022\n"
     ]
    }
   ],
   "source": [
    "print(f\"EFN : AUC = {np.mean(efn_aucs):.4f} +/- {np.std(efn_aucs):.4f}\")\n",
    "print(f\"Spectral EFN : AUC = {np.mean(spectral_efn_aucs):.4f} +/- {np.std(spectral_efn_aucs):.4f}\")"
   ]
  },
  {
   "cell_type": "code",
   "execution_count": 5,
   "id": "48a5134d-6677-43e2-99c9-624fd740a310",
   "metadata": {
    "tags": []
   },
   "outputs": [
    {
     "data": {
      "application/vnd.jupyter.widget-view+json": {
       "model_id": "4b435904cf4043fa9c5b388d23e28d91",
       "version_major": 2,
       "version_minor": 0
      },
      "text/plain": [
       "0it [00:00, ?it/s]"
      ]
     },
     "metadata": {},
     "output_type": "display_data"
    }
   ],
   "source": [
    "from energyflow.emd import emd_wasserstein, emds_wasserstein\n",
    "htest_trim = [h[h[:,0]>0] for h in htest]\n",
    "ptest_trim = [p[p[:,0]>0] for p in ptest]\n",
    "\n",
    "emds = []\n",
    "for h,p in tqdm(zip(htest_trim,ptest_trim)):\n",
    "    emds.append(emd_wasserstein(h,p,R=0.8,norm=False))\n",
    "    \n",
    "#spectral_efns = glob.glob(\"keras_models/qjet_spectralEFN_zpT_iter*.keras\")\n",
    "#delta_efns = []\n",
    "#for efname in spectral_efns:\n",
    "#    efn = keras.models.load_model(efname)\n",
    "#    h_preds = efn.predict([htest[:,:,0],htest[:,:,1:]],batch_size=1000)\n",
    "#    p_preds = efn.predict([ptest[:,:,0],ptest[:,:,1:]],batch_size=1000)\n",
    "#    delta_efns.append((h_preds-p_preds))\n",
    "#    del efn\n",
    "#    del h_preds, p_preds\n",
    "#    gc.collect()\n",
    "#delta_efns = np.mean(np.concatenate(delta_efns,axis=1),axis=1)\n",
    "z_h = htest[:,:,0]\n",
    "theta_h = np.linalg.norm(htest[:,:,2:],axis=-1)\n",
    "angularity_h = np.sum(theta_h*z_h,axis=1)\n",
    "\n",
    "z_p = ptest[:,:,0]\n",
    "theta_p = np.linalg.norm(ptest[:,:,2:],axis=-1)\n",
    "angularity_p = np.sum(theta_p*z_p,axis=1)"
   ]
  },
  {
   "cell_type": "code",
   "execution_count": 8,
   "id": "49d4f50d-fe64-40ee-b9ec-224c06bb5ee0",
   "metadata": {},
   "outputs": [
    {
     "data": {
      "text/plain": [
       "[<matplotlib.lines.Line2D at 0x7f9c702f9b50>]"
      ]
     },
     "execution_count": 8,
     "metadata": {},
     "output_type": "execute_result"
    },
    {
     "data": {
      "image/png": "[encoded data removed]",
      "text/plain": [
       "<Figure size 600x600 with 2 Axes>"
      ]
     },
     "metadata": {},
     "output_type": "display_data"
    }
   ],
   "source": [
    "plt.figure(figsize=(6,6))\n",
    "x = np.linspace(0,0.8,40)\n",
    "from matplotlib.colors import LogNorm\n",
    "h2 = plt.hist2d(emds,np.abs(angularity_h-angularity_p),bins=(x,x),norm=LogNorm(),density=True,cmap='binary')\n",
    "plt.colorbar()\n",
    "plt.plot(x,x,linestyle='--',color='red',linewidth=2)"
   ]
  },
  {
   "cell_type": "code",
   "execution_count": 9,
   "id": "ae52951b-2457-4773-8a57-e650d6f71be1",
   "metadata": {},
   "outputs": [],
   "source": [
    "htest_efn_scores = np.mean(np.concatenate(htest_efn_scores,axis=1),axis=1)\n",
    "ptest_efn_scores = np.mean(np.concatenate(ptest_efn_scores,axis=1),axis=1)\n",
    "htest_spectral_efn_scores = np.mean(np.concatenate(htest_spectral_efn_scores,axis=1),axis=1)\n",
    "ptest_spectral_efn_scores = np.mean(np.concatenate(ptest_spectral_efn_scores,axis=1),axis=1)"
   ]
  },
  {
   "cell_type": "code",
   "execution_count": 24,
   "id": "76c64b67-31d5-49af-b6ce-6368a56e33c4",
   "metadata": {},
   "outputs": [],
   "source": [
    "def logit(x):\n",
    "    return np.log(x/(1-x))\n",
    "delta_efn = np.abs(logit(htest_efn_scores)-logit(ptest_efn_scores))\n",
    "delta_spectral_efn = np.abs(htest_spectral_efn_scores-ptest_spectral_efn_scores)"
   ]
  },
  {
   "cell_type": "code",
   "execution_count": 27,
   "id": "9327bcd9-0a76-46ba-a371-c9e781db9d4c",
   "metadata": {},
   "outputs": [
    {
     "data": {
      "image/png": "[encoded data removed]",
      "text/plain": [
       "<Figure size 600x600 with 2 Axes>"
      ]
     },
     "metadata": {},
     "output_type": "display_data"
    }
   ],
   "source": [
    "plt.figure(figsize=(6,6))\n",
    "x = np.linspace(0,0.8,40)\n",
    "y = np.linspace(0,0.1,40)\n",
    "from matplotlib.colors import LogNorm\n",
    "h2 = plt.hist2d(emds,delta_spectral_efn,bins=(x,y),norm=LogNorm(),density=True,cmap='binary')\n",
    "plt.colorbar()\n",
    "plt.plot(x,x,linestyle='--',color='red',linewidth=2)\n",
    "plt.xlim([0.01,0.8])\n",
    "plt.ylim([0.01,0.8])\n",
    "plt.yscale('log')\n",
    "plt.xscale('log')"
   ]
  },
  {
   "cell_type": "code",
   "execution_count": 31,
   "id": "6c691971-a70b-493b-9109-82e5db12d843",
   "metadata": {},
   "outputs": [
    {
     "data": {
      "text/plain": [
       "(0.01, 5.0)"
      ]
     },
     "execution_count": 31,
     "metadata": {},
     "output_type": "execute_result"
    },
    {
     "data": {
      "image/png": "[encoded data removed]",
      "text/plain": [
       "<Figure size 600x600 with 2 Axes>"
      ]
     },
     "metadata": {},
     "output_type": "display_data"
    }
   ],
   "source": [
    "plt.figure(figsize=(6,6))\n",
    "x = np.linspace(0,0.8,40)\n",
    "y = np.linspace(0,5,40)\n",
    "from matplotlib.colors import LogNorm\n",
    "h2 = plt.hist2d(emds,delta_efn,bins=(x,y),norm=LogNorm(),density=True,cmap='binary')\n",
    "plt.colorbar()\n",
    "plt.plot(x,x,linestyle='--',color='red',linewidth=2)\n",
    "plt.xlim([0.01,0.8])\n",
    "plt.ylim([0.01,5])\n",
    "#plt.yscale('log')\n",
    "#plt.xscale('log')"
   ]
  },
  {
   "cell_type": "code",
   "execution_count": null,
   "id": "8be772b1-6cc0-438d-8ff3-a239fd7d9bad",
   "metadata": {},
   "outputs": [],
   "source": []
  }
 ],
 "metadata": {
  "kernelspec": {
   "display_name": "Python [conda env:.conda-eflow]",
   "language": "python",
   "name": "conda-env-.conda-eflow-py"
  },
  "language_info": {
   "codemirror_mode": {
    "name": "ipython",
    "version": 3
   },
   "file_extension": ".py",
   "mimetype": "text/x-python",
   "name": "python",
   "nbconvert_exporter": "python",
   "pygments_lexer": "ipython3",
   "version": "3.9.15"
  }
 },
 "nbformat": 4,
 "nbformat_minor": 5
}
