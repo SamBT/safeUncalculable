{
 "cells": [
  {
   "cell_type": "code",
   "execution_count": null,
   "id": "5024614e",
   "metadata": {
    "tags": []
   },
   "outputs": [],
   "source": [
    "%load_ext autoreload\n",
    "%autoreload 2\n",
    "\n",
    "from nnTrain import train_efn, train_pfn, get_data\n",
    "import matplotlib.pyplot as plt\n",
    "import numpy as np\n",
    "from multiprocessing import Process\n",
    "from tensorflow import keras\n",
    "from keras.optimizers import Adam\n",
    "from tensorflow import keras\n",
    "from keras import backend as K\n",
    "from energyflow.utils import data_split, to_categorical\n",
    "from sklearn.model_selection import train_test_split\n",
    "import gc\n",
    "from tensorflow.keras.losses import BinaryCrossentropy\n",
    "\n",
    "# define rng seeds for train/test/val split for replicable results\n",
    "rng1 = 45446\n",
    "rng2 = 25135"
   ]
  },
  {
   "cell_type": "markdown",
   "id": "9459befd",
   "metadata": {
    "jp-MarkdownHeadingCollapsed": true,
    "tags": []
   },
   "source": [
    "# Quark jets, R = 0.8"
   ]
  },
  {
   "cell_type": "code",
   "execution_count": null,
   "id": "7290bac4-94d1-4fae-b97e-f5af22febee1",
   "metadata": {},
   "outputs": [],
   "source": [
    "base=\"/uscms/home/sbrightt/nobackup/jets-ml/datasets/safeIncalculable_v2/\"\n",
    "nmax = 200000\n",
    "\n",
    "hdata = get_data('q',hlevel=True,efrac=False,base=base,nmax=nmax,wta=True)\n",
    "htrain, htest = train_test_split(hdata,train_size=0.5,random_state=rng1)\n",
    "htest, hval = train_test_split(htest,train_size=0.5,random_state=rng2)\n",
    "\n",
    "pdata = get_data('q',hlevel=False,efrac=False,base=base,nmax=nmax,wta=True)\n",
    "ptrain, ptest = train_test_split(pdata,train_size=0.5,random_state=rng1)\n",
    "ptest, pval = train_test_split(ptest,train_size=0.5,random_state=rng2)\n",
    "\n",
    "train = np.concatenate((htrain,ptrain),axis=0)\n",
    "train_labels = np.concatenate((np.ones((htrain.shape[0],1)),np.zeros((ptrain.shape[0],1))),axis=0)\n",
    "perm = np.random.permutation(train.shape[0])\n",
    "train = train[perm]\n",
    "train_labels = train_labels[perm]\n",
    "\n",
    "test = np.concatenate((htest,ptest),axis=0)\n",
    "test_labels = np.concatenate((np.ones((htest.shape[0],1)),np.zeros((ptest.shape[0],1))),axis=0)\n",
    "perm = np.random.permutation(test.shape[0])\n",
    "test = test[perm]\n",
    "test_labels = test_labels[perm]\n",
    "\n",
    "val = np.concatenate((hval,pval),axis=0)\n",
    "val_labels = np.concatenate((np.ones((hval.shape[0],1)),np.zeros((pval.shape[0],1))),axis=0)\n",
    "perm = np.random.permutation(val.shape[0])\n",
    "val = val[perm]\n",
    "val_labels = val_labels[perm]\n",
    "\n",
    "del hdata, pdata, htrain, htest, hval, ptrain, ptest, pval, perm"
   ]
  },
  {
   "cell_type": "code",
   "execution_count": null,
   "id": "53619e00",
   "metadata": {
    "tags": []
   },
   "outputs": [],
   "source": [
    "# Regular PFN, no spectral normalization\n",
    "for i in range(10):\n",
    "    loss = BinaryCrossentropy(from_logits=False)\n",
    "    #out_act = keras.activations.linear\n",
    "    model_kwargs = {\"Phi_sizes\":(60,60,60), \"F_sizes\":(80,80,80),\n",
    "                    \"F_dropouts\":0.1,\n",
    "                    \"input_dim\":3,\n",
    "                    \"output_dim\":1,\"output_act\":\"sigmoid\",\n",
    "                    \"patience\":5,\n",
    "                    \"optimizer\":Adam(1e-3),\n",
    "                    \"loss\":loss,\n",
    "                    \"summary\":True}\n",
    "    model_kwargs['spectral'] = False\n",
    "    train_kwargs = {\"epochs\":100,\"verbose\":1,\"batch_size\":512}\n",
    "    pfn, auc, pfn_fp, efn_tp, threshs = train_pfn((train,train_labels),\n",
    "                                                  (test,test_labels),\n",
    "                                                  (val,val_labels),\n",
    "                                                  model_kwargs,\n",
    "                                                  train_kwargs,\n",
    "                                                  plot=True)\n",
    "    pfn.save(f\"keras_models_PFN_wta/qjet_PFN_zpT_iter{i}.keras\")\n",
    "    del pfn\n",
    "    gc.collect()"
   ]
  },
  {
   "cell_type": "code",
   "execution_count": null,
   "id": "740cd018-9056-4bde-b821-967794bfc1fb",
   "metadata": {
    "tags": []
   },
   "outputs": [],
   "source": [
    "# Spectral PFN\n",
    "for i in range(10):\n",
    "    loss = BinaryCrossentropy(from_logits=False)\n",
    "    #out_act = keras.activations.linear\n",
    "    model_kwargs = {\"Phi_sizes\":(60,60,60), \"F_sizes\":(80,80,80),\n",
    "                    \"F_dropouts\":0.1,\n",
    "                    \"input_dim\":3,\n",
    "                    \"output_dim\":1,\"output_act\":\"sigmoid\",\n",
    "                    \"patience\":5,\n",
    "                    \"optimizer\":Adam(1e-4),\n",
    "                    \"loss\":loss,\n",
    "                    \"summary\":True}\n",
    "    model_kwargs['spectral'] = True\n",
    "    train_kwargs = {\"epochs\":150,\"verbose\":1,\"batch_size\":10000}\n",
    "    pfn, auc, pfn_fp, efn_tp, threshs = train_pfn((train,train_labels),\n",
    "                                                  (test,test_labels),\n",
    "                                                  (val,val_labels),\n",
    "                                                  model_kwargs,\n",
    "                                                  train_kwargs,\n",
    "                                                  plot=True)\n",
    "    pfn.save(f\"keras_models_PFN_wta/qjet_spectralPFN_zpT_iter{i}.keras\")\n",
    "    del pfn\n",
    "    gc.collect()"
   ]
  },
  {
   "cell_type": "markdown",
   "id": "d68be1c2-ae37-47be-ab4b-d360f5161438",
   "metadata": {
    "tags": []
   },
   "source": [
    "# Gluon jets, R = 0.8"
   ]
  },
  {
   "cell_type": "code",
   "execution_count": null,
   "id": "b99dfdf6-1b9a-413e-9e6e-e590be3961bd",
   "metadata": {},
   "outputs": [],
   "source": [
    "base=\"/uscms/home/sbrightt/nobackup/jets-ml/datasets/safeIncalculable_v2/\"\n",
    "nmax = 200000\n",
    "\n",
    "hdata = get_data('g',hlevel=True,efrac=False,base=base,nmax=nmax,wta=True)\n",
    "htrain, htest = train_test_split(hdata,train_size=0.5,random_state=rng1)\n",
    "htest, hval = train_test_split(htest,train_size=0.5,random_state=rng2)\n",
    "\n",
    "pdata = get_data('g',hlevel=False,efrac=False,base=base,nmax=nmax,wta=True)\n",
    "ptrain, ptest = train_test_split(pdata,train_size=0.5,random_state=rng1)\n",
    "ptest, pval = train_test_split(ptest,train_size=0.5,random_state=rng2)\n",
    "\n",
    "train = np.concatenate((htrain,ptrain),axis=0)\n",
    "train_labels = np.concatenate((np.ones((htrain.shape[0],1)),np.zeros((ptrain.shape[0],1))),axis=0)\n",
    "perm = np.random.permutation(train.shape[0])\n",
    "train = train[perm]\n",
    "train_labels = train_labels[perm]\n",
    "\n",
    "test = np.concatenate((htest,ptest),axis=0)\n",
    "test_labels = np.concatenate((np.ones((htest.shape[0],1)),np.zeros((ptest.shape[0],1))),axis=0)\n",
    "perm = np.random.permutation(test.shape[0])\n",
    "test = test[perm]\n",
    "test_labels = test_labels[perm]\n",
    "\n",
    "val = np.concatenate((hval,pval),axis=0)\n",
    "val_labels = np.concatenate((np.ones((hval.shape[0],1)),np.zeros((pval.shape[0],1))),axis=0)\n",
    "perm = np.random.permutation(val.shape[0])\n",
    "val = val[perm]\n",
    "val_labels = val_labels[perm]\n",
    "\n",
    "del hdata, pdata, htrain, htest, hval, ptrain, ptest, pval, perm"
   ]
  },
  {
   "cell_type": "code",
   "execution_count": null,
   "id": "e5c2d9c1-a25f-4a7c-92c9-eeb019a43399",
   "metadata": {
    "tags": []
   },
   "outputs": [],
   "source": [
    "# Regular PFN, no spectral normalization\n",
    "for i in range(10):\n",
    "    loss = BinaryCrossentropy(from_logits=False)\n",
    "    #out_act = keras.activations.linear\n",
    "    model_kwargs = {\"Phi_sizes\":(60,60,60), \"F_sizes\":(80,80,80),\n",
    "                    \"F_dropouts\":0.1,\n",
    "                    \"input_dim\":3,\n",
    "                    \"output_dim\":1,\"output_act\":\"sigmoid\",\n",
    "                    \"patience\":5,\n",
    "                    \"optimizer\":Adam(1e-3),\n",
    "                    \"loss\":loss,\n",
    "                    \"summary\":True}\n",
    "    model_kwargs['spectral'] = False\n",
    "    train_kwargs = {\"epochs\":100,\"verbose\":1,\"batch_size\":512}\n",
    "    pfn, auc, pfn_fp, efn_tp, threshs = train_pfn((train,train_labels),\n",
    "                                                  (test,test_labels),\n",
    "                                                  (val,val_labels),\n",
    "                                                  model_kwargs,\n",
    "                                                  train_kwargs,\n",
    "                                                  plot=True)\n",
    "    pfn.save(f\"keras_models_PFN_wta/gjet_PFN_zpT_iter{i}.keras\")\n",
    "    del pfn\n",
    "    gc.collect()"
   ]
  },
  {
   "cell_type": "code",
   "execution_count": null,
   "id": "73bcc624-1172-40e7-9afc-182338b62850",
   "metadata": {
    "tags": []
   },
   "outputs": [],
   "source": [
    "# Spectral PFN\n",
    "for i in range(10):\n",
    "    loss = BinaryCrossentropy(from_logits=False)\n",
    "    #out_act = keras.activations.linear\n",
    "    model_kwargs = {\"Phi_sizes\":(60,60,60), \"F_sizes\":(80,80,80),\n",
    "                    \"F_dropouts\":0.1,\n",
    "                    \"input_dim\":3,\n",
    "                    \"output_dim\":1,\"output_act\":\"sigmoid\",\n",
    "                    \"patience\":5,\n",
    "                    \"optimizer\":Adam(1e-4),\n",
    "                    \"loss\":loss,\n",
    "                    \"summary\":True}\n",
    "    model_kwargs['spectral'] = True\n",
    "    train_kwargs = {\"epochs\":150,\"verbose\":1,\"batch_size\":10000}\n",
    "    pfn, auc, pfn_fp, efn_tp, threshs = train_pfn((train,train_labels),\n",
    "                                                  (test,test_labels),\n",
    "                                                  (val,val_labels),\n",
    "                                                  model_kwargs,\n",
    "                                                  train_kwargs,\n",
    "                                                  plot=True)\n",
    "    pfn.save(f\"keras_models_PFN_wta/gjet_spectralPFN_zpT_iter{i}.keras\")\n",
    "    del pfn\n",
    "    gc.collect()"
   ]
  },
  {
   "cell_type": "code",
   "execution_count": null,
   "id": "dc38c091-cf81-4b33-8875-4726b5080df8",
   "metadata": {},
   "outputs": [],
   "source": []
  }
 ],
 "metadata": {
  "kernelspec": {
   "display_name": "Python [conda env:.conda-eflow]",
   "language": "python",
   "name": "conda-env-.conda-eflow-py"
  },
  "language_info": {
   "codemirror_mode": {
    "name": "ipython",
    "version": 3
   },
   "file_extension": ".py",
   "mimetype": "text/x-python",
   "name": "python",
   "nbconvert_exporter": "python",
   "pygments_lexer": "ipython3",
   "version": "3.9.15"
  }
 },
 "nbformat": 4,
 "nbformat_minor": 5
}
