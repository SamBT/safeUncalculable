{
 "cells": [
  {
   "cell_type": "code",
   "execution_count": null,
   "id": "5024614e",
   "metadata": {
    "tags": []
   },
   "outputs": [],
   "source": [
    "%load_ext autoreload\n",
    "%autoreload 2\n",
    "\n",
    "from nnTrain import train_efn, train_pfn, get_data, get_data_softDrop\n",
    "import matplotlib.pyplot as plt\n",
    "import numpy as np\n",
    "from multiprocessing import Process\n",
    "from tensorflow import keras\n",
    "from keras.optimizers import Adam\n",
    "from tensorflow import keras\n",
    "from keras import backend as K\n",
    "from energyflow.utils import data_split, to_categorical\n",
    "from sklearn.model_selection import train_test_split\n",
    "import gc\n",
    "from tensorflow.keras.losses import BinaryCrossentropy\n",
    "\n",
    "# define rng seeds for train/test/val split for replicable results\n",
    "rng1 = 45446\n",
    "rng2 = 25135"
   ]
  },
  {
   "cell_type": "markdown",
   "id": "9459befd",
   "metadata": {
    "tags": []
   },
   "source": [
    "# Quark jets, R = 0.8"
   ]
  },
  {
   "cell_type": "code",
   "execution_count": null,
   "id": "7290bac4-94d1-4fae-b97e-f5af22febee1",
   "metadata": {},
   "outputs": [],
   "source": [
    "base=\"/uscms/home/sbrightt/nobackup/jets-ml/datasets/safeIncalculable_v2/\"\n",
    "nmax = 200000\n",
    "\n",
    "hdata = get_data('q',hlevel=True,efrac=True,base=base,nmax=nmax,wta=False)\n",
    "htrain, htest = train_test_split(hdata,train_size=0.5,random_state=rng1)\n",
    "htest, hval = train_test_split(htest,train_size=0.5,random_state=rng2)\n",
    "\n",
    "pdata = get_data('q',hlevel=False,efrac=True,base=base,nmax=nmax,wta=False)\n",
    "ptrain, ptest = train_test_split(pdata,train_size=0.5,random_state=rng1)\n",
    "ptest, pval = train_test_split(ptest,train_size=0.5,random_state=rng2)\n",
    "\n",
    "train = np.concatenate((htrain,ptrain),axis=0)\n",
    "train_labels = np.concatenate((np.ones((htrain.shape[0],1)),np.zeros((ptrain.shape[0],1))),axis=0)\n",
    "perm = np.random.permutation(train.shape[0])\n",
    "train = train[perm]\n",
    "train_labels = train_labels[perm]\n",
    "\n",
    "test = np.concatenate((htest,ptest),axis=0)\n",
    "test_labels = np.concatenate((np.ones((htest.shape[0],1)),np.zeros((ptest.shape[0],1))),axis=0)\n",
    "perm = np.random.permutation(test.shape[0])\n",
    "test = test[perm]\n",
    "test_labels = test_labels[perm]\n",
    "\n",
    "val = np.concatenate((hval,pval),axis=0)\n",
    "val_labels = np.concatenate((np.ones((hval.shape[0],1)),np.zeros((pval.shape[0],1))),axis=0)\n",
    "perm = np.random.permutation(val.shape[0])\n",
    "val = val[perm]\n",
    "val_labels = val_labels[perm]\n",
    "\n",
    "del hdata, pdata, htrain, htest, hval, ptrain, ptest, pval, perm"
   ]
  },
  {
   "cell_type": "code",
   "execution_count": null,
   "id": "53619e00",
   "metadata": {
    "tags": []
   },
   "outputs": [],
   "source": [
    "# Regular EFN, no spectral normalization\n",
    "loss = BinaryCrossentropy(from_logits=False)\n",
    "#out_act = keras.activations.linear\n",
    "model_kwargs = {\"Phi_sizes\":(60,60,60), \"F_sizes\":(80,80,80),\n",
    "                \"F_dropouts\":0.1,\n",
    "                \"input_dim\":2,\n",
    "                \"output_dim\":1,\"output_act\":\"sigmoid\",\n",
    "                \"patience\":5,\n",
    "                \"optimizer\":Adam(1e-3),\n",
    "                \"loss\":loss,\n",
    "                \"summary\":True}\n",
    "model_kwargs['spectral'] = False\n",
    "train_kwargs = {\"epochs\":100,\"verbose\":1,\"batch_size\":512}\n",
    "efn, auc, efn_fp, efn_tp, threshs = train_efn((train,train_labels),\n",
    "                                              (test,test_labels),\n",
    "                                              (val,val_labels),\n",
    "                                              model_kwargs,\n",
    "                                              train_kwargs,\n",
    "                                              plot=True)\n",
    "efn.save(\"keras_models_v2/qjet_EFN_zpT_iter1.keras\")\n",
    "del efn\n",
    "gc.collect()"
   ]
  },
  {
   "cell_type": "code",
   "execution_count": null,
   "id": "611d858a-a196-4c40-bbf9-064136b08a4d",
   "metadata": {
    "tags": []
   },
   "outputs": [],
   "source": [
    "# EFN with spectral normalization\n",
    "for i in range(6,11):\n",
    "    loss = BinaryCrossentropy(from_logits=False)\n",
    "    #out_act = keras.activations.linear\n",
    "    model_kwargs = {\"Phi_sizes\":(60,60,60), \"F_sizes\":(80,80,80),\n",
    "                    \"F_dropouts\":0.1,\n",
    "                    \"input_dim\":2,\n",
    "                    \"output_dim\":1,\"output_act\":\"sigmoid\",\n",
    "                    \"patience\":5,\n",
    "                    \"optimizer\":Adam(1e-4),\n",
    "                    \"loss\":loss,\n",
    "                    \"summary\":True}\n",
    "    model_kwargs['spectral'] = True\n",
    "    train_kwargs = {\"epochs\":150,\"verbose\":1,\"batch_size\":10000}\n",
    "    efn, auc, efn_fp, efn_tp, threshs = train_efn((train,train_labels),\n",
    "                                                  (test,test_labels),\n",
    "                                                  (val,val_labels),\n",
    "                                                  model_kwargs,\n",
    "                                                  train_kwargs,\n",
    "                                                  plot=True)\n",
    "    efn.save(f\"keras_models_v2/qjet_spectralEFN_zpT_iter{i}.keras\")\n",
    "    del efn\n",
    "    gc.collect()"
   ]
  },
  {
   "cell_type": "markdown",
   "id": "38e560c6-bc88-41a6-b88a-f3c7fd495243",
   "metadata": {
    "tags": []
   },
   "source": [
    "## L = 1 study"
   ]
  },
  {
   "cell_type": "code",
   "execution_count": null,
   "id": "5602b5d4-9053-4850-afaf-7037fff9c11d",
   "metadata": {},
   "outputs": [],
   "source": [
    "rtrain = np.concatenate([train[:,:,:1],np.linalg.norm(train[:,:,1:],axis=-1,keepdims=True)],axis=-1)\n",
    "rtest = np.concatenate([test[:,:,:1],np.linalg.norm(test[:,:,1:],axis=-1,keepdims=True)],axis=-1)\n",
    "rval = np.concatenate([val[:,:,:1],np.linalg.norm(val[:,:,1:],axis=-1,keepdims=True)],axis=-1)"
   ]
  },
  {
   "cell_type": "code",
   "execution_count": null,
   "id": "2953b1a1-4a7c-47b6-8ca3-46298c94f006",
   "metadata": {},
   "outputs": [],
   "source": [
    "# Regular EFN, no spectral normalization\n",
    "loss = BinaryCrossentropy(from_logits=False)\n",
    "L = 2\n",
    "model_kwargs = {\"Phi_sizes\":(150,150,L), \"F_sizes\":(100,100,100),\n",
    "                \"F_dropouts\":0.1,\n",
    "                \"input_dim\":1,\n",
    "                \"output_dim\":1,\"output_act\":\"sigmoid\",\n",
    "                \"patience\":5,\n",
    "                \"optimizer\":Adam(1e-4),\n",
    "                \"loss\":loss,\n",
    "                \"summary\":True}\n",
    "model_kwargs['spectral'] = False\n",
    "train_kwargs = {\"epochs\":100,\"verbose\":1,\"batch_size\":128}\n",
    "efn, auc, efn_fp, efn_tp, threshs = train_efn((rtrain,train_labels),\n",
    "                                              (rtest,test_labels),\n",
    "                                              (rval,val_labels),\n",
    "                                              model_kwargs,\n",
    "                                              train_kwargs,\n",
    "                                              plot=True)\n",
    "#efn.save(f\"keras_models_Lsmall/qjet_EFN_zpT_L1.keras\")\n",
    "#del efn\n",
    "gc.collect()"
   ]
  },
  {
   "cell_type": "code",
   "execution_count": null,
   "id": "12615d2d-caf7-4a3d-81ec-49500c118cf9",
   "metadata": {},
   "outputs": [],
   "source": [
    "import tensorflow.keras.backend as K\n",
    "model = efn.model\n",
    "kf = K.function(model.layers[0].input,model.layers[8].output)\n",
    "def eval_filter(kf,R,n=100):\n",
    "    xmin, ymin, xmax, ymax = -R, -R, R, R\n",
    "    nx = ny = n\n",
    "    # construct grid of inputs\n",
    "    xs, ys = np.linspace(xmin, xmax, nx), np.linspace(ymin, ymax, ny)\n",
    "    X, Y = np.meshgrid(xs, ys, indexing='ij')\n",
    "    XY = np.asarray([X, Y]).reshape((1, 2, nx*ny)).transpose((0, 2, 1))\n",
    "    # evaluate function\n",
    "    Z = kf(XY)[0].reshape(nx, ny, L).transpose((2, 0, 1))\n",
    "    return X, Y, Z"
   ]
  },
  {
   "cell_type": "code",
   "execution_count": null,
   "id": "a83d7bdb-cacd-4f9a-9d7d-50c8f73b192d",
   "metadata": {},
   "outputs": [],
   "source": [
    "import tensorflow.keras.backend as K\n",
    "model = efn.model\n",
    "kf = K.function(model.layers[0].input,model.layers[8].output)\n",
    "R = 0.1\n",
    "rads = np.linspace(0,R,1000).reshape(-1,1)\n",
    "outs = kf(rads)"
   ]
  },
  {
   "cell_type": "code",
   "execution_count": null,
   "id": "24f61971-2194-463b-86ab-b0dc00a62b46",
   "metadata": {},
   "outputs": [],
   "source": [
    "plt.plot(rads[:,0],outs[:,0,:])"
   ]
  },
  {
   "cell_type": "code",
   "execution_count": null,
   "id": "b95360fb-f70b-4038-b1d4-9d3be80bbc86",
   "metadata": {},
   "outputs": [],
   "source": [
    "from sklearn.metrics import roc_auc_score\n",
    "betas = np.linspace(0,20,100)\n",
    "from tqdm import tqdm\n",
    "aucs = []\n",
    "for b in tqdm(betas):\n",
    "    ang = np.sum(rtest[:,:,0]*np.power(rtest[:,:,1],b,out=np.zeros_like(rtest[:,:,1]),where=rtest[:,:,1]!=0),axis=1)\n",
    "    aucs.append(roc_auc_score(test_labels[:,0],ang))\n",
    "plt.plot(betas,aucs)"
   ]
  },
  {
   "cell_type": "code",
   "execution_count": null,
   "id": "d02bf736-fa2e-410e-86d4-cae959e701c7",
   "metadata": {},
   "outputs": [],
   "source": [
    "from matplotlib.colors import LogNorm, Normalize\n",
    "from scipy.optimize import curve_fit\n",
    "R = 1.0\n",
    "#X,Y,Z = efn.eval_filters(R,prune=False,n=1000)\n",
    "X,Y,Z = eval_filter(kf,R,n=1000)\n",
    "colors = [\"Reds\",\"Blues\",\"Greens\",\"Oranges\",\"Purples\",\"Greys\",\"YlOrBr\",\"RdPu\"]\n",
    "fig,axes = plt.subplots(1,1,figsize=(5*len(Z),4))\n",
    "for i in range(len(Z)):\n",
    "    plt.sca(axes)\n",
    "    norm = Normalize()\n",
    "    plt.imshow(Z[i].T,origin='lower',extent=[-R,R,-R,R],aspect='auto',norm=norm)\n",
    "    plt.colorbar()\n",
    "    plt.xticks(rotation=45)"
   ]
  },
  {
   "cell_type": "code",
   "execution_count": null,
   "id": "98abe4a5-1cf1-4888-8893-2cc8c3c4e6b4",
   "metadata": {},
   "outputs": [],
   "source": [
    "test_model = keras.models.load_model(\"keras_models_Lsmall/qjet_EFN_zpT_L1.keras\")\n",
    "nev = test.shape[0]\n",
    "splits = np.array_split(np.arange(nev),nev//10000)\n",
    "preds = []\n",
    "for s in splits:\n",
    "    preds.append(test_model([test[s][:,:,0],test[s][:,:,1:]])[:,0].numpy())\n",
    "preds = np.concatenate(preds)"
   ]
  },
  {
   "cell_type": "code",
   "execution_count": null,
   "id": "fdd9a7ec-0c7d-43e5-a9cf-175f20a3e6f8",
   "metadata": {},
   "outputs": [],
   "source": [
    "import sklearn.metrics as metrics\n",
    "auc = metrics.roc_auc_score(test_labels[:,0],preds)\n",
    "fpr,tpr,threshs = metrics.roc_curve(test_labels[:,0],preds)\n",
    "plt.plot(tpr,1-fpr)\n",
    "print(auc)"
   ]
  },
  {
   "cell_type": "code",
   "execution_count": null,
   "id": "4d9c3034-8f3d-4efe-a55c-e34c530a06bc",
   "metadata": {},
   "outputs": [],
   "source": []
  },
  {
   "cell_type": "markdown",
   "id": "31f445d5-249d-4124-8852-57a582a5b87c",
   "metadata": {
    "jp-MarkdownHeadingCollapsed": true
   },
   "source": [
    "## L = 1 spectral"
   ]
  },
  {
   "cell_type": "code",
   "execution_count": null,
   "id": "5fbcec5e-5726-4084-ae2b-cc90293dc678",
   "metadata": {},
   "outputs": [],
   "source": [
    "# Regular EFN, no spectral normalization\n",
    "loss = BinaryCrossentropy(from_logits=False)\n",
    "L = 1\n",
    "model_kwargs = {\"Phi_sizes\":(150,150,L), \"F_sizes\":(100,100,100),\n",
    "                \"F_dropouts\":0.1,\n",
    "                \"input_dim\":2,\n",
    "                \"output_dim\":1,\"output_act\":\"sigmoid\",\n",
    "                \"patience\":10,\n",
    "                \"optimizer\":Adam(1e-4),\n",
    "                \"loss\":loss,\n",
    "                \"summary\":True}\n",
    "model_kwargs['spectral'] = True\n",
    "train_kwargs = {\"epochs\":200,\"verbose\":1,\"batch_size\":10000}\n",
    "efn, auc, efn_fp, efn_tp, threshs = train_efn((train,train_labels),\n",
    "                                              (test,test_labels),\n",
    "                                              (val,val_labels),\n",
    "                                              model_kwargs,\n",
    "                                              train_kwargs,\n",
    "                                              plot=True)\n",
    "efn.save(f\"keras_models_Lsmall/qjet_spectralEFN_zpT_L1.keras\")\n",
    "#del efn\n",
    "gc.collect()"
   ]
  },
  {
   "cell_type": "code",
   "execution_count": null,
   "id": "680e8341-29b7-4e27-ae36-d0f941ff4767",
   "metadata": {},
   "outputs": [],
   "source": [
    "import tensorflow.keras.backend as K\n",
    "model = efn.model\n",
    "kf = K.function(model.layers[0].input,model.layers[8].output)\n",
    "def eval_filter(kf,R,n=100):\n",
    "    xmin, ymin, xmax, ymax = -R, -R, R, R\n",
    "    nx = ny = n\n",
    "    # construct grid of inputs\n",
    "    xs, ys = np.linspace(xmin, xmax, nx), np.linspace(ymin, ymax, ny)\n",
    "    X, Y = np.meshgrid(xs, ys, indexing='ij')\n",
    "    XY = np.asarray([X, Y]).reshape((1, 2, nx*ny)).transpose((0, 2, 1))\n",
    "    # evaluate function\n",
    "    Z = kf(XY)[0].reshape(nx, ny, L).transpose((2, 0, 1))\n",
    "    return X, Y, Z"
   ]
  },
  {
   "cell_type": "code",
   "execution_count": null,
   "id": "4301c2a1-7765-4512-8c55-49626e710135",
   "metadata": {},
   "outputs": [],
   "source": [
    "from matplotlib.colors import LogNorm, Normalize\n",
    "from scipy.optimize import curve_fit\n",
    "R = 0.1\n",
    "#X,Y,Z = efn.eval_filters(R,prune=False,n=1000)\n",
    "X,Y,Z = eval_filter(kf,R,n=1000)\n",
    "colors = [\"Reds\",\"Blues\",\"Greens\",\"Oranges\",\"Purples\",\"Greys\",\"YlOrBr\",\"RdPu\"]\n",
    "fig,axes = plt.subplots(1,1,figsize=(5*len(Z),4))\n",
    "for i in range(len(Z)):\n",
    "    plt.sca(axes)\n",
    "    norm = Normalize()\n",
    "    plt.imshow(Z[i].T,origin='lower',extent=[-R,R,-R,R],aspect='auto',norm=norm)\n",
    "    plt.colorbar()\n",
    "    plt.xticks(rotation=45)"
   ]
  },
  {
   "cell_type": "code",
   "execution_count": null,
   "id": "fe1d11aa-bd49-4b4f-9d91-af8bb4a1dea3",
   "metadata": {},
   "outputs": [],
   "source": []
  },
  {
   "cell_type": "markdown",
   "id": "d68be1c2-ae37-47be-ab4b-d360f5161438",
   "metadata": {
    "jp-MarkdownHeadingCollapsed": true,
    "tags": []
   },
   "source": [
    "# Gluon jets, R = 0.8"
   ]
  },
  {
   "cell_type": "code",
   "execution_count": null,
   "id": "b99dfdf6-1b9a-413e-9e6e-e590be3961bd",
   "metadata": {},
   "outputs": [],
   "source": [
    "base=\"/uscms/home/sbrightt/nobackup/jets-ml/datasets/safeIncalculable_v2/\"\n",
    "nmax = 200000\n",
    "\n",
    "hdata = get_data('g',hlevel=True,efrac=False,base=base,nmax=nmax,wta=False)\n",
    "htrain, htest = train_test_split(hdata,train_size=0.5,random_state=rng1)\n",
    "htest, hval = train_test_split(htest,train_size=0.5,random_state=rng2)\n",
    "\n",
    "pdata = get_data('g',hlevel=False,efrac=False,base=base,nmax=nmax,wta=False)\n",
    "ptrain, ptest = train_test_split(pdata,train_size=0.5,random_state=rng1)\n",
    "ptest, pval = train_test_split(ptest,train_size=0.5,random_state=rng2)\n",
    "\n",
    "train = np.concatenate((htrain,ptrain),axis=0)\n",
    "train_labels = np.concatenate((np.ones((htrain.shape[0],1)),np.zeros((ptrain.shape[0],1))),axis=0)\n",
    "perm = np.random.permutation(train.shape[0])\n",
    "train = train[perm]\n",
    "train_labels = train_labels[perm]\n",
    "\n",
    "test = np.concatenate((htest,ptest),axis=0)\n",
    "test_labels = np.concatenate((np.ones((htest.shape[0],1)),np.zeros((ptest.shape[0],1))),axis=0)\n",
    "perm = np.random.permutation(test.shape[0])\n",
    "test = test[perm]\n",
    "test_labels = test_labels[perm]\n",
    "\n",
    "val = np.concatenate((hval,pval),axis=0)\n",
    "val_labels = np.concatenate((np.ones((hval.shape[0],1)),np.zeros((pval.shape[0],1))),axis=0)\n",
    "perm = np.random.permutation(val.shape[0])\n",
    "val = val[perm]\n",
    "val_labels = val_labels[perm]\n",
    "\n",
    "del hdata, pdata, htrain, htest, hval, ptrain, ptest, pval, perm"
   ]
  },
  {
   "cell_type": "code",
   "execution_count": null,
   "id": "e5c2d9c1-a25f-4a7c-92c9-eeb019a43399",
   "metadata": {
    "tags": []
   },
   "outputs": [],
   "source": [
    "# Regular EFN, no spectral normalization\n",
    "loss = BinaryCrossentropy(from_logits=False)\n",
    "model_kwargs = {\"Phi_sizes\":(60,60,60), \"F_sizes\":(80,80,80),\n",
    "                \"F_dropouts\":0.1,\n",
    "                \"input_dim\":2,\n",
    "                \"output_dim\":1,\"output_act\":\"sigmoid\",\n",
    "                \"patience\":5,\n",
    "                \"optimizer\":Adam(1e-3),\n",
    "                \"loss\":loss,\n",
    "                \"summary\":True}\n",
    "model_kwargs['spectral'] = False\n",
    "train_kwargs = {\"epochs\":100,\"verbose\":1,\"batch_size\":128}\n",
    "efn, auc, efn_fp, efn_tp, threshs = train_efn((train,train_labels),\n",
    "                                              (test,test_labels),\n",
    "                                              (val,val_labels),\n",
    "                                              model_kwargs,\n",
    "                                              train_kwargs,\n",
    "                                              plot=True)\n",
    "efn_name = \"keras_models_v1/gjet_EFN_zpT_iter10.keras\"\n",
    "efn.save(efn_name)\n",
    "del efn\n",
    "gc.collect()"
   ]
  },
  {
   "cell_type": "code",
   "execution_count": null,
   "id": "73bcc624-1172-40e7-9afc-182338b62850",
   "metadata": {
    "tags": []
   },
   "outputs": [],
   "source": [
    "# EFN with spectral normalization\n",
    "for i in range(6,11):\n",
    "    loss = BinaryCrossentropy(from_logits=False)\n",
    "    model_kwargs = {\"Phi_sizes\":(60,60,60), \"F_sizes\":(80,80,80),\n",
    "                    \"F_dropouts\":0.1,\n",
    "                    \"input_dim\":2,\n",
    "                    \"output_dim\":1,\"output_act\":\"sigmoid\",\n",
    "                    \"patience\":5,\n",
    "                    \"optimizer\":Adam(1e-4),\n",
    "                    \"loss\":loss,\n",
    "                    \"summary\":True}\n",
    "    model_kwargs['spectral'] = True\n",
    "    train_kwargs = {\"epochs\":150,\"verbose\":1,\"batch_size\":10000}\n",
    "    efn, auc, efn_fp, efn_tp, threshs = train_efn((train,train_labels),\n",
    "                                                  (test,test_labels),\n",
    "                                                  (val,val_labels),\n",
    "                                                  model_kwargs,\n",
    "                                                  train_kwargs,\n",
    "                                                  plot=True)\n",
    "    efn.save(f\"keras_models_v2/gjet_spectralEFN_zpT_iter{i}.keras\")\n",
    "    del efn\n",
    "    gc.collect()"
   ]
  },
  {
   "cell_type": "markdown",
   "id": "a958de28-1e43-4ec5-bf68-e572585858b3",
   "metadata": {},
   "source": [
    "## L = 1 study"
   ]
  },
  {
   "cell_type": "code",
   "execution_count": null,
   "id": "04b013c2-74a6-4183-9a8e-e11ad9c742ba",
   "metadata": {},
   "outputs": [],
   "source": [
    "# Regular EFN, no spectral normalization\n",
    "loss = BinaryCrossentropy(from_logits=False)\n",
    "L = 2\n",
    "model_kwargs = {\"Phi_sizes\":(100,100,L), \"F_sizes\":(100,100,100),\n",
    "                \"F_dropouts\":0.1,\n",
    "                \"input_dim\":2,\n",
    "                \"output_dim\":1,\"output_act\":\"sigmoid\",\n",
    "                \"patience\":10,\n",
    "                \"optimizer\":Adam(1e-4),\n",
    "                \"loss\":loss,\n",
    "                \"summary\":True}\n",
    "model_kwargs['spectral'] = False\n",
    "train_kwargs = {\"epochs\":1000,\"verbose\":1,\"batch_size\":10000}\n",
    "efn, auc, efn_fp, efn_tp, threshs = train_efn((train,train_labels),\n",
    "                                              (test,test_labels),\n",
    "                                              (val,val_labels),\n",
    "                                              model_kwargs,\n",
    "                                              train_kwargs,\n",
    "                                              plot=True)\n",
    "#efn.save(f\"keras_models_Lsmall/gjet_EFN_zpT_L1.keras\")\n",
    "#del efn\n",
    "gc.collect()"
   ]
  },
  {
   "cell_type": "code",
   "execution_count": null,
   "id": "61459fd5-6c68-478c-b93d-f31932151c05",
   "metadata": {},
   "outputs": [],
   "source": [
    "import tensorflow.keras.backend as K\n",
    "model = efn.model\n",
    "kf = K.function(model.layers[0].input,model.layers[8].output)\n",
    "def eval_filter(kf,R,n=100):\n",
    "    xmin, ymin, xmax, ymax = -R, -R, R, R\n",
    "    nx = ny = n\n",
    "    # construct grid of inputs\n",
    "    xs, ys = np.linspace(xmin, xmax, nx), np.linspace(ymin, ymax, ny)\n",
    "    X, Y = np.meshgrid(xs, ys, indexing='ij')\n",
    "    XY = np.asarray([X, Y]).reshape((1, 2, nx*ny)).transpose((0, 2, 1))\n",
    "    # evaluate function\n",
    "    Z = kf(XY)[0].reshape(nx, ny, L).transpose((2, 0, 1))\n",
    "    return X, Y, Z"
   ]
  },
  {
   "cell_type": "code",
   "execution_count": null,
   "id": "3b16f4ab-f50d-4822-8c14-6f568717cd82",
   "metadata": {},
   "outputs": [],
   "source": [
    "# from matplotlib.colors import LogNorm, Normalize\n",
    "from scipy.optimize import curve_fit\n",
    "R = 0.5\n",
    "#X,Y,Z = efn.eval_filters(R,prune=False,n=1000)\n",
    "X,Y,Z = eval_filter(kf,R,n=1000)\n",
    "colors = [\"Reds\",\"Blues\",\"Greens\",\"Oranges\",\"Purples\",\"Greys\",\"YlOrBr\",\"RdPu\"]\n",
    "fig,axes = plt.subplots(1,len(Z),figsize=(5*len(Z),4))\n",
    "for i in range(len(Z)):\n",
    "    plt.sca(axes[i])\n",
    "    norm = Normalize()\n",
    "    plt.imshow(Z[i].T,origin='lower',extent=[-R,R,-R,R],aspect='auto',norm=norm)\n",
    "    plt.colorbar()\n",
    "    plt.xticks(rotation=45)"
   ]
  },
  {
   "cell_type": "code",
   "execution_count": null,
   "id": "252139cb-811c-4c6d-895f-51c415e73bd6",
   "metadata": {},
   "outputs": [],
   "source": []
  }
 ],
 "metadata": {
  "kernelspec": {
   "display_name": "Python [conda env:.conda-eflow]",
   "language": "python",
   "name": "conda-env-.conda-eflow-py"
  },
  "language_info": {
   "codemirror_mode": {
    "name": "ipython",
    "version": 3
   },
   "file_extension": ".py",
   "mimetype": "text/x-python",
   "name": "python",
   "nbconvert_exporter": "python",
   "pygments_lexer": "ipython3",
   "version": "3.9.15"
  }
 },
 "nbformat": 4,
 "nbformat_minor": 5
}
